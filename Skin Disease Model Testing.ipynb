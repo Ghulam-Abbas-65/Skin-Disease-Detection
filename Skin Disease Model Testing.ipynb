{
 "cells": [
  {
   "cell_type": "markdown",
   "id": "64ac70c5",
   "metadata": {},
   "source": [
    "# &emsp;&emsp;&emsp;&emsp;&emsp;&emsp;&emsp; &emsp;&emsp;&emsp;&emsp;Testing the Model"
   ]
  },
  {
   "cell_type": "markdown",
   "id": "1b2851d8",
   "metadata": {},
   "source": [
    "<b>Importing Libraries</b>"
   ]
  },
  {
   "cell_type": "code",
   "execution_count": 1,
   "id": "6c207d19",
   "metadata": {},
   "outputs": [],
   "source": [
    "import matplotlib.pyplot as plt\n",
    "import numpy as np\n",
    "import os\n",
    "import PIL\n",
    "import tensorflow as tf\n",
    "import pathlib\n",
    "\n",
    "from tensorflow import keras\n",
    "from tensorflow.keras import layers\n",
    "from tensorflow.keras.models import Sequential\n",
    "from tensorflow.keras.preprocessing.image import ImageDataGenerator\n",
    "from tensorflow.keras import Model\n",
    "from tensorflow.keras.optimizers import Adam\n",
    "from tensorflow.keras.callbacks import ReduceLROnPlateau"
   ]
  },
  {
   "cell_type": "markdown",
   "id": "d0512243",
   "metadata": {},
   "source": [
    "<b>Loading the model from PC directory</b>"
   ]
  },
  {
   "cell_type": "code",
   "execution_count": 2,
   "id": "a7141e27",
   "metadata": {},
   "outputs": [],
   "source": [
    "model = tf.keras.models.load_model('C:/Users/Ghulam Abbas/Downloads/New_4_Classes.h5')"
   ]
  },
  {
   "cell_type": "markdown",
   "id": "01935ec1",
   "metadata": {},
   "source": [
    "<b>Defining Image size and class names</b>"
   ]
  },
  {
   "cell_type": "code",
   "execution_count": 3,
   "id": "bf4e3cfd",
   "metadata": {},
   "outputs": [],
   "source": [
    "IMG_SIZE = (160, 160)"
   ]
  },
  {
   "cell_type": "code",
   "execution_count": 4,
   "id": "57177eaa",
   "metadata": {},
   "outputs": [],
   "source": [
    "class_names = ['Acne', 'Eczema', \"Healthy\", 'Psoriasis']"
   ]
  },
  {
   "cell_type": "markdown",
   "id": "249c580a",
   "metadata": {},
   "source": [
    "<b>Predictions on Single Images</b>"
   ]
  },
  {
   "cell_type": "code",
   "execution_count": 6,
   "id": "dfb6bdb2",
   "metadata": {},
   "outputs": [
    {
     "name": "stdout",
     "output_type": "stream",
     "text": [
      "This image most likely belongs to Acne.\n"
     ]
    }
   ],
   "source": [
    "img = tf.keras.utils.load_img(\n",
    "    \"C:/Users/Ghulam Abbas/OneDrive/Desktop/Test/Acne (190).jpg\", target_size=(IMG_SIZE)\n",
    ")\n",
    "img_array = tf.keras.utils.img_to_array(img)\n",
    "img_array = tf.expand_dims(img_array, 0) # Create a batch\n",
    "\n",
    "predictions = model.predict(img_array)\n",
    "score = tf.nn.softmax(predictions[0])\n",
    "\n",
    "print(\n",
    "    \"This image most likely belongs to {}.\"\n",
    "    .format(class_names[np.argmax(score)])\n",
    ")"
   ]
  },
  {
   "cell_type": "code",
   "execution_count": 7,
   "id": "dcec15bc",
   "metadata": {},
   "outputs": [
    {
     "name": "stdout",
     "output_type": "stream",
     "text": [
      "This image most likely belongs to Eczema.\n"
     ]
    }
   ],
   "source": [
    "img = tf.keras.utils.load_img(\n",
    "    \"C:/Users/Ghulam Abbas/OneDrive/Desktop/Test/Eczema (84).jpg\", target_size=(IMG_SIZE)\n",
    ")\n",
    "img_array = tf.keras.utils.img_to_array(img)\n",
    "img_array = tf.expand_dims(img_array, 0) # Create a batch\n",
    "\n",
    "predictions = model.predict(img_array)\n",
    "score = tf.nn.softmax(predictions[0])\n",
    "\n",
    "print(\n",
    "    \"This image most likely belongs to {}.\"\n",
    "    .format(class_names[np.argmax(score)])\n",
    ")"
   ]
  },
  {
   "cell_type": "code",
   "execution_count": 8,
   "id": "babe9add",
   "metadata": {},
   "outputs": [
    {
     "name": "stdout",
     "output_type": "stream",
     "text": [
      "This image most likely belongs to Psoriasis.\n"
     ]
    }
   ],
   "source": [
    "img = tf.keras.utils.load_img(\n",
    "    \"C:/Users/Ghulam Abbas/OneDrive/Desktop/Test/Psoriasis (155).jpg\", target_size=(IMG_SIZE)\n",
    ")\n",
    "img_array = tf.keras.utils.img_to_array(img)\n",
    "img_array = tf.expand_dims(img_array, 0) # Create a batch\n",
    "\n",
    "predictions = model.predict(img_array)\n",
    "score = tf.nn.softmax(predictions[0])\n",
    "\n",
    "print(\n",
    "    \"This image most likely belongs to {}.\"\n",
    "    .format(class_names[np.argmax(score)])\n",
    ")"
   ]
  },
  {
   "cell_type": "code",
   "execution_count": 9,
   "id": "bc53b140",
   "metadata": {},
   "outputs": [
    {
     "name": "stdout",
     "output_type": "stream",
     "text": [
      "This image most likely belongs to Healthy.\n"
     ]
    }
   ],
   "source": [
    "img = tf.keras.utils.load_img(\n",
    "    \"C:/Users/Ghulam Abbas/OneDrive/Desktop/Test/Check.jpeg\", target_size=(IMG_SIZE)\n",
    ")\n",
    "img_array = tf.keras.utils.img_to_array(img)\n",
    "img_array = tf.expand_dims(img_array, 0) # Create a batch\n",
    "\n",
    "predictions = model.predict(img_array)\n",
    "score = tf.nn.softmax(predictions[0])\n",
    "\n",
    "print(\n",
    "    \"This image most likely belongs to {}.\"\n",
    "    .format(class_names[np.argmax(score)])\n",
    ")"
   ]
  }
 ],
 "metadata": {
  "kernelspec": {
   "display_name": "Python 3 (ipykernel)",
   "language": "python",
   "name": "python3"
  },
  "language_info": {
   "codemirror_mode": {
    "name": "ipython",
    "version": 3
   },
   "file_extension": ".py",
   "mimetype": "text/x-python",
   "name": "python",
   "nbconvert_exporter": "python",
   "pygments_lexer": "ipython3",
   "version": "3.9.7"
  }
 },
 "nbformat": 4,
 "nbformat_minor": 5
}
