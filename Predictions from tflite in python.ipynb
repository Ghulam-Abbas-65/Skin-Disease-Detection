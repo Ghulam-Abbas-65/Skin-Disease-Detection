{
 "cells": [
  {
   "cell_type": "markdown",
   "id": "26d4800a",
   "metadata": {},
   "source": [
    "# &emsp;&emsp;&emsp;&emsp;&emsp;&emsp;&emsp;&emsp;&emsp;&emsp;&emsp;&emsp; Testing of Tflite Model"
   ]
  },
  {
   "cell_type": "code",
   "execution_count": 2,
   "id": "6b294778",
   "metadata": {},
   "outputs": [
    {
     "name": "stdout",
     "output_type": "stream",
     "text": [
      "This image most likely belongs to Psoriasis.\n"
     ]
    }
   ],
   "source": [
    "import tensorflow as tf\n",
    "\n",
    "class_names = ['Acne', 'Eczema',\"Healthy\", 'Psoriasis']\n",
    "\n",
    "# Load the TFLite model and allocate tensors.\n",
    "interpreter = tf.lite.Interpreter(model_path=\"C:/Users/Ghulam Abbas/Downloads/New_4_Classes.tflite\")\n",
    "interpreter.allocate_tensors()\n",
    "\n",
    "# Get input and output tensors.\n",
    "input_details = interpreter.get_input_details()\n",
    "output_details = interpreter.get_output_details()\n",
    "\n",
    "img_size = (160, 160)\n",
    "IMG_SIZE = img_size + (3,)\n",
    "\n",
    "# Test the model on random input data.\n",
    "input_shape = input_details[0]['shape']\n",
    "img = tf.keras.utils.load_img(\n",
    "    \"C:/Users/Ghulam Abbas/OneDrive/Desktop/Test/Psoriasis (32).jpg\", target_size=(IMG_SIZE)\n",
    ")\n",
    "img_array = tf.keras.utils.img_to_array(img)\n",
    "img_array = tf.expand_dims(img_array, 0) # Create a batch\n",
    "interpreter.set_tensor(input_details[0]['index'], img_array)\n",
    "\n",
    "interpreter.invoke()\n",
    "\n",
    "# The function `get_tensor()` returns a copy of the tensor data.\n",
    "# Use `tensor()` in order to get a pointer to the tensor.\n",
    "output_data = interpreter.get_tensor(output_details[0]['index'])\n",
    "\n",
    "print(\n",
    "    \"This image most likely belongs to {}.\"\n",
    "    .format(class_names[np.argmax(output_data)], 100 * np.max(output_data))\n",
    ")\n"
   ]
  }
 ],
 "metadata": {
  "kernelspec": {
   "display_name": "Python 3 (ipykernel)",
   "language": "python",
   "name": "python3"
  },
  "language_info": {
   "codemirror_mode": {
    "name": "ipython",
    "version": 3
   },
   "file_extension": ".py",
   "mimetype": "text/x-python",
   "name": "python",
   "nbconvert_exporter": "python",
   "pygments_lexer": "ipython3",
   "version": "3.9.7"
  }
 },
 "nbformat": 4,
 "nbformat_minor": 5
}
